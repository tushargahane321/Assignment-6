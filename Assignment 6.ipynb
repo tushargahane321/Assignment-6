{
 "cells": [
  {
   "cell_type": "code",
   "execution_count": 1,
   "id": "bbe69c8c-d489-4921-83da-daa59eabc43e",
   "metadata": {},
   "outputs": [],
   "source": [
    "#(1)_Explain class and object with respect to object - oriented programming. give a suitable example."
   ]
  },
  {
   "cell_type": "code",
   "execution_count": null,
   "id": "dc4b7de7-7bc3-4c08-ae45-696b3733d6e8",
   "metadata": {},
   "outputs": [],
   "source": [
    "Class is a user-defined datatype that contain its own data members and member functions. The member functions and data members can be accessed with the help of objects. It is the primary concept of object-oriented programming. A class is used to organize information or data so a programmer can reuse the elements in multiple instances."
   ]
  },
  {
   "cell_type": "code",
   "execution_count": null,
   "id": "abd3190d-2db4-40af-b798-1d73f315f7b8",
   "metadata": {},
   "outputs": [],
   "source": [
    "Objects are instances of a class created with specifically defined data. Objects can correspond to real-world objects or an abstract entity. When class is defined initially, the description is the only object that is defined."
   ]
  },
  {
   "cell_type": "code",
   "execution_count": 13,
   "id": "18b8e4d4-23e5-460d-bdc8-efa42ca29956",
   "metadata": {},
   "outputs": [
    {
     "name": "stdout",
     "output_type": "stream",
     "text": [
      "tushar(22)\n",
      "madhur(20)\n"
     ]
    }
   ],
   "source": [
    "#example\n",
    "class Person:\n",
    "  def __init__(self, name, age):\n",
    "    self.name = name\n",
    "    self.age = age\n",
    "    \n",
    "  def __str__(self):\n",
    "     return f\"{self.name}({self.age})\"\n",
    "\n",
    "p1 = Person(\"tushar\", 22)\n",
    "p2 = Person(\"madhur\",20)\n",
    "\n",
    "print(p1)\n",
    "print(p2)"
   ]
  },
  {
   "cell_type": "code",
   "execution_count": 14,
   "id": "50cc3742-6df8-421c-8683-da6c14b52699",
   "metadata": {},
   "outputs": [],
   "source": [
    "#(2)_Name the four pillars of oops."
   ]
  },
  {
   "cell_type": "code",
   "execution_count": null,
   "id": "26be5a92-d360-4045-be64-233ea81ece1b",
   "metadata": {},
   "outputs": [],
   "source": [
    "These four pillars are Inheritance, Polymorphism, Encapsulation and Abstraction."
   ]
  },
  {
   "cell_type": "code",
   "execution_count": null,
   "id": "9a2e5735-5b15-4c52-8e70-31bb716ae2ed",
   "metadata": {},
   "outputs": [],
   "source": [
    "#(3)_ Explain why the __init__() function is used. give  a suitable example."
   ]
  },
  {
   "cell_type": "code",
   "execution_count": null,
   "id": "ed020e73-4293-4ed1-ae1e-1cdea2a9efbf",
   "metadata": {},
   "outputs": [],
   "source": [
    "The classes and objects in their simplest form, and are not really useful in real life applications\n",
    "All classes have a function called __init__(), which is always executed when the class is being initiated.\n",
    "The __init__ method lets the class initialize the object's attributes and serves no other purpose. It is only used within classes.\n",
    "Use the __init__() function to assign values to object properties, or other operations that are necessary to do when the object is being created"
   ]
  },
  {
   "cell_type": "code",
   "execution_count": null,
   "id": "fd9398ab-a0e9-4787-8748-2248356199b5",
   "metadata": {},
   "outputs": [],
   "source": [
    "#(4)_why self is used in oops?"
   ]
  },
  {
   "cell_type": "code",
   "execution_count": null,
   "id": "d9551960-6353-4c18-802d-d5cdcd1b0081",
   "metadata": {},
   "outputs": [],
   "source": [
    "The self variable is used to represent the instance of the class which is often used in object-oriented programming. It works as a reference to the object. Python uses the self parameter to refer to instance attributes and methods of the class.  "
   ]
  },
  {
   "cell_type": "code",
   "execution_count": null,
   "id": "b98e16cc-64b3-4759-97c5-56de70193662",
   "metadata": {},
   "outputs": [],
   "source": [
    "#(5)_What is inheritance? Give an example for each type of inheritance."
   ]
  },
  {
   "cell_type": "code",
   "execution_count": null,
   "id": "926ee539-dcf4-40d8-bf4c-0738ee9c8ac5",
   "metadata": {},
   "outputs": [],
   "source": [
    "Classes can reuse code from other classes. Relationships and subclasses between objects can be assigned, enabling developers to reuse common logic while still maintaining a unique hierarchy. This property of OOP forces a more thorough data analysis, reduces development time and ensures a higher level of accuracy"
   ]
  },
  {
   "cell_type": "code",
   "execution_count": 16,
   "id": "7944fc8c-bd9b-4385-9a85-d53cf5e27030",
   "metadata": {},
   "outputs": [
    {
     "name": "stdout",
     "output_type": "stream",
     "text": [
      "this is function one\n",
      " this is function 2 \n"
     ]
    }
   ],
   "source": [
    "#Single inheritance\n",
    "#When a child class inherits only a single parent class.\n",
    "\n",
    "class Parent:\n",
    "     def func1(self):\n",
    "          print(\"this is function one\")\n",
    "class Child(Parent):\n",
    "     def func2(self):\n",
    "          print(\" this is function 2 \")\n",
    "ob = Child()\n",
    "ob.func1()\n",
    "ob.func2()"
   ]
  },
  {
   "cell_type": "code",
   "execution_count": 17,
   "id": "9d1cb884-2079-4e3e-9566-cfb19f1e354c",
   "metadata": {},
   "outputs": [
    {
     "name": "stdout",
     "output_type": "stream",
     "text": [
      "this is function 1\n",
      "this is function 2\n",
      "this is function 3\n"
     ]
    }
   ],
   "source": [
    "#Multiple Inheritance\n",
    "#When a child class inherits from more than one parent class.\n",
    "\n",
    "class Parent:\n",
    "   def func1(self):\n",
    "        print(\"this is function 1\")\n",
    "class Parent2:\n",
    "   def func2(self):\n",
    "        print(\"this is function 2\")\n",
    "class Child(Parent , Parent2):\n",
    "    def func3(self):\n",
    "        print(\"this is function 3\")\n",
    " \n",
    "ob = Child()\n",
    "ob.func1()\n",
    "ob.func2()\n",
    "ob.func3()"
   ]
  },
  {
   "cell_type": "code",
   "execution_count": 19,
   "id": "866b68e0-8660-4e98-a142-72ba085829a2",
   "metadata": {},
   "outputs": [
    {
     "name": "stdout",
     "output_type": "stream",
     "text": [
      "this is function 1\n",
      "this is function 2\n",
      "this is function 3\n"
     ]
    }
   ],
   "source": [
    "#Multilevel Inheritance\n",
    "#When a child class becomes a parent class for another child class.\n",
    "\n",
    "class Parent:\n",
    "      def func1(self):\n",
    "          print(\"this is function 1\")\n",
    "class Child(Parent):\n",
    "      def func2(self):\n",
    "          print(\"this is function 2\")\n",
    "class Child2(Child):\n",
    "      def func3(self):\n",
    "            print(\"this is function 3\")\n",
    "ob = Child2()\n",
    "ob.func1()\n",
    "ob.func2()\n",
    "ob.func3()"
   ]
  },
  {
   "cell_type": "code",
   "execution_count": 23,
   "id": "ea90a4c3-e4de-4fed-8042-3dd494cfbece",
   "metadata": {},
   "outputs": [
    {
     "name": "stdout",
     "output_type": "stream",
     "text": [
      "this is function 1\n",
      "this is function 2\n"
     ]
    }
   ],
   "source": [
    "#Hierarchical Inheritance\n",
    "#Hierarchical inheritance involves multiple inheritance from the same base or parent class.\n",
    "\n",
    "class Parent:\n",
    "      def func1(self):\n",
    "          print(\"this is function 1\")\n",
    "class Child(Parent):\n",
    "      def func2(self):\n",
    "          print(\"this is function 2\")\n",
    "class Child2(Parent):\n",
    "      def func3(self):\n",
    "          print(\"this is function 3\")\n",
    " \n",
    "ob = Child()\n",
    "ob1 = Child2()\n",
    "ob.func1()\n",
    "ob.func2()\n"
   ]
  },
  {
   "cell_type": "code",
   "execution_count": 4,
   "id": "00c07427-746d-461b-926a-bfc6a492f2ff",
   "metadata": {},
   "outputs": [
    {
     "name": "stdout",
     "output_type": "stream",
     "text": [
      "this is function one\n"
     ]
    }
   ],
   "source": [
    "#Hybrid Inheritance\n",
    "#Hybrid inheritance involves multiple inheritance taking place in a single program.\n",
    "\n",
    "class Parent:\n",
    "     def func1(self):\n",
    "         print(\"this is function one\")\n",
    " \n",
    "class Child(Parent):\n",
    "     def func2(self):\n",
    "         print(\"this is function 2\")\n",
    " \n",
    "class Child1(Parent):\n",
    "     def func3(self):\n",
    "         print(\" this is function 3\")\n",
    " \n",
    "class Child2(Parent):\n",
    "     def func4(self):\n",
    "         print(\" this is function 4\")\n",
    " \n",
    "ob = Child2()\n",
    "ob.func1()"
   ]
  },
  {
   "cell_type": "code",
   "execution_count": null,
   "id": "dd42ad75-b2ec-46d5-a6f5-64ffa50436de",
   "metadata": {},
   "outputs": [],
   "source": []
  }
 ],
 "metadata": {
  "kernelspec": {
   "display_name": "Python 3 (ipykernel)",
   "language": "python",
   "name": "python3"
  },
  "language_info": {
   "codemirror_mode": {
    "name": "ipython",
    "version": 3
   },
   "file_extension": ".py",
   "mimetype": "text/x-python",
   "name": "python",
   "nbconvert_exporter": "python",
   "pygments_lexer": "ipython3",
   "version": "3.10.8"
  }
 },
 "nbformat": 4,
 "nbformat_minor": 5
}
